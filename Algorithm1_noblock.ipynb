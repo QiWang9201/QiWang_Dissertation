{
 "cells": [
  {
   "cell_type": "code",
   "execution_count": 6,
   "id": "e3a6d6af",
   "metadata": {},
   "outputs": [],
   "source": [
    "import pandas as pd\n",
    "import numpy as np"
   ]
  },
  {
   "cell_type": "code",
   "execution_count": 7,
   "id": "06c8d867",
   "metadata": {},
   "outputs": [],
   "source": [
    "column_names = ['Order_id','Segment','Hour_start','Type','Quantity','Price','Hour_Covered']"
   ]
  },
  {
   "cell_type": "code",
   "execution_count": 50,
   "id": "1b0b47d0",
   "metadata": {},
   "outputs": [],
   "source": [
    "df = pd.read_csv('./Epias/test1.csv', header=None, names = column_names)"
   ]
  },
  {
   "cell_type": "code",
   "execution_count": 51,
   "id": "5444d302",
   "metadata": {
    "scrolled": true
   },
   "outputs": [
    {
     "data": {
      "text/html": [
       "<div>\n",
       "<style scoped>\n",
       "    .dataframe tbody tr th:only-of-type {\n",
       "        vertical-align: middle;\n",
       "    }\n",
       "\n",
       "    .dataframe tbody tr th {\n",
       "        vertical-align: top;\n",
       "    }\n",
       "\n",
       "    .dataframe thead th {\n",
       "        text-align: right;\n",
       "    }\n",
       "</style>\n",
       "<table border=\"1\" class=\"dataframe\">\n",
       "  <thead>\n",
       "    <tr style=\"text-align: right;\">\n",
       "      <th></th>\n",
       "      <th>Order_id</th>\n",
       "      <th>Segment</th>\n",
       "      <th>Hour_start</th>\n",
       "      <th>Type</th>\n",
       "      <th>Quantity</th>\n",
       "      <th>Price</th>\n",
       "      <th>Hour_Covered</th>\n",
       "    </tr>\n",
       "  </thead>\n",
       "  <tbody>\n",
       "    <tr>\n",
       "      <th>0</th>\n",
       "      <td>12</td>\n",
       "      <td>1</td>\n",
       "      <td>1</td>\n",
       "      <td>S</td>\n",
       "      <td>200</td>\n",
       "      <td>0</td>\n",
       "      <td>1</td>\n",
       "    </tr>\n",
       "    <tr>\n",
       "      <th>1</th>\n",
       "      <td>12</td>\n",
       "      <td>2</td>\n",
       "      <td>1</td>\n",
       "      <td>S</td>\n",
       "      <td>60</td>\n",
       "      <td>80</td>\n",
       "      <td>1</td>\n",
       "    </tr>\n",
       "    <tr>\n",
       "      <th>2</th>\n",
       "      <td>12</td>\n",
       "      <td>3</td>\n",
       "      <td>1</td>\n",
       "      <td>S</td>\n",
       "      <td>0</td>\n",
       "      <td>100</td>\n",
       "      <td>1</td>\n",
       "    </tr>\n",
       "    <tr>\n",
       "      <th>3</th>\n",
       "      <td>11</td>\n",
       "      <td>1</td>\n",
       "      <td>1</td>\n",
       "      <td>S</td>\n",
       "      <td>-20</td>\n",
       "      <td>0</td>\n",
       "      <td>1</td>\n",
       "    </tr>\n",
       "    <tr>\n",
       "      <th>4</th>\n",
       "      <td>11</td>\n",
       "      <td>2</td>\n",
       "      <td>1</td>\n",
       "      <td>S</td>\n",
       "      <td>-100</td>\n",
       "      <td>40</td>\n",
       "      <td>1</td>\n",
       "    </tr>\n",
       "    <tr>\n",
       "      <th>5</th>\n",
       "      <td>11</td>\n",
       "      <td>3</td>\n",
       "      <td>1</td>\n",
       "      <td>S</td>\n",
       "      <td>-180</td>\n",
       "      <td>100</td>\n",
       "      <td>1</td>\n",
       "    </tr>\n",
       "  </tbody>\n",
       "</table>\n",
       "</div>"
      ],
      "text/plain": [
       "   Order_id  Segment  Hour_start Type  Quantity  Price  Hour_Covered\n",
       "0        12        1           1    S       200      0             1\n",
       "1        12        2           1    S        60     80             1\n",
       "2        12        3           1    S         0    100             1\n",
       "3        11        1           1    S       -20      0             1\n",
       "4        11        2           1    S      -100     40             1\n",
       "5        11        3           1    S      -180    100             1"
      ]
     },
     "execution_count": 51,
     "metadata": {},
     "output_type": "execute_result"
    }
   ],
   "source": [
    "df"
   ]
  },
  {
   "cell_type": "code",
   "execution_count": 52,
   "id": "ec6dccad",
   "metadata": {},
   "outputs": [
    {
     "data": {
      "text/plain": [
       "array([11, 12], dtype=int64)"
      ]
     },
     "execution_count": 52,
     "metadata": {},
     "output_type": "execute_result"
    }
   ],
   "source": [
    "#定义order_id（订单的集合）\n",
    "Order_id = np.unique(df.loc[:,'Order_id'])\n",
    "Order_id"
   ]
  },
  {
   "cell_type": "code",
   "execution_count": 53,
   "id": "bd1307a9",
   "metadata": {},
   "outputs": [],
   "source": [
    "#定义S（set of supply bids）和T（set of demand bids）\n",
    "S = [];\n",
    "T = [];\n",
    "for i in Order_id:\n",
    "    if sum(df[df.loc[:,'Order_id']==i].iloc[:,4]) > 0:\n",
    "        T.append(i);\n",
    "    else:\n",
    "        S.append(i);"
   ]
  },
  {
   "cell_type": "code",
   "execution_count": 54,
   "id": "5ade3de1",
   "metadata": {
    "scrolled": true
   },
   "outputs": [
    {
     "name": "stdout",
     "output_type": "stream",
     "text": [
      "[12]\n",
      "[11]\n"
     ]
    }
   ],
   "source": [
    "print(T)\n",
    "print(S)"
   ]
  },
  {
   "cell_type": "code",
   "execution_count": 55,
   "id": "86d92805",
   "metadata": {},
   "outputs": [
    {
     "data": {
      "text/plain": [
       "2"
      ]
     },
     "execution_count": 55,
     "metadata": {},
     "output_type": "execute_result"
    }
   ],
   "source": [
    "max(df['Hour_start'].values+df['Hour_Covered'].values)"
   ]
  },
  {
   "cell_type": "code",
   "execution_count": 56,
   "id": "d052d44e",
   "metadata": {},
   "outputs": [
    {
     "name": "stdout",
     "output_type": "stream",
     "text": [
      "[1]\n"
     ]
    }
   ],
   "source": [
    "#定义Z（set of time periods）\n",
    "Z = np.arange(min(df['Hour_start'].tolist()), max(df['Hour_start'].values+df['Hour_Covered'].values))\n",
    "print(Z)"
   ]
  },
  {
   "cell_type": "code",
   "execution_count": 57,
   "id": "2caff13f",
   "metadata": {},
   "outputs": [
    {
     "data": {
      "text/plain": [
       "array([11, 12], dtype=int64)"
      ]
     },
     "execution_count": 57,
     "metadata": {},
     "output_type": "execute_result"
    }
   ],
   "source": [
    "np.unique(df[df.loc[:,'Hour_start']==1]['Order_id'])"
   ]
  },
  {
   "cell_type": "code",
   "execution_count": 58,
   "id": "154fd89d",
   "metadata": {},
   "outputs": [
    {
     "name": "stdout",
     "output_type": "stream",
     "text": [
      "{1: [[12], [11]]}\n"
     ]
    }
   ],
   "source": [
    "#定义T时段内的bid id(后续需要针对block进行改动)\n",
    "bid_z = {}\n",
    "for z in Z:\n",
    "    tlist = [];\n",
    "    slist = [];\n",
    "    for i in np.unique(df[df.loc[:,'Hour_start']==z]['Order_id']):\n",
    "        if sum(df[df.loc[:,'Order_id']==i].iloc[:,4]) > 0:\n",
    "            tlist.append(i);\n",
    "        else:\n",
    "            slist.append(i);\n",
    "    bid_z[z] = [tlist,slist]\n",
    "print(bid_z)"
   ]
  },
  {
   "cell_type": "code",
   "execution_count": 59,
   "id": "45f53f6a",
   "metadata": {},
   "outputs": [
    {
     "data": {
      "text/html": [
       "<div>\n",
       "<style scoped>\n",
       "    .dataframe tbody tr th:only-of-type {\n",
       "        vertical-align: middle;\n",
       "    }\n",
       "\n",
       "    .dataframe tbody tr th {\n",
       "        vertical-align: top;\n",
       "    }\n",
       "\n",
       "    .dataframe thead th {\n",
       "        text-align: right;\n",
       "    }\n",
       "</style>\n",
       "<table border=\"1\" class=\"dataframe\">\n",
       "  <thead>\n",
       "    <tr style=\"text-align: right;\">\n",
       "      <th></th>\n",
       "      <th>Order_id</th>\n",
       "      <th>Segment</th>\n",
       "      <th>Hour_start</th>\n",
       "      <th>Type</th>\n",
       "      <th>Quantity</th>\n",
       "      <th>Price</th>\n",
       "      <th>Hour_Covered</th>\n",
       "    </tr>\n",
       "  </thead>\n",
       "  <tbody>\n",
       "    <tr>\n",
       "      <th>0</th>\n",
       "      <td>12</td>\n",
       "      <td>1</td>\n",
       "      <td>1</td>\n",
       "      <td>S</td>\n",
       "      <td>200</td>\n",
       "      <td>0</td>\n",
       "      <td>1</td>\n",
       "    </tr>\n",
       "    <tr>\n",
       "      <th>1</th>\n",
       "      <td>12</td>\n",
       "      <td>2</td>\n",
       "      <td>1</td>\n",
       "      <td>S</td>\n",
       "      <td>60</td>\n",
       "      <td>80</td>\n",
       "      <td>1</td>\n",
       "    </tr>\n",
       "    <tr>\n",
       "      <th>2</th>\n",
       "      <td>12</td>\n",
       "      <td>3</td>\n",
       "      <td>1</td>\n",
       "      <td>S</td>\n",
       "      <td>0</td>\n",
       "      <td>100</td>\n",
       "      <td>1</td>\n",
       "    </tr>\n",
       "  </tbody>\n",
       "</table>\n",
       "</div>"
      ],
      "text/plain": [
       "   Order_id  Segment  Hour_start Type  Quantity  Price  Hour_Covered\n",
       "0        12        1           1    S       200      0             1\n",
       "1        12        2           1    S        60     80             1\n",
       "2        12        3           1    S         0    100             1"
      ]
     },
     "execution_count": 59,
     "metadata": {},
     "output_type": "execute_result"
    }
   ],
   "source": [
    "df[df.loc[:,'Order_id'] == 12]"
   ]
  },
  {
   "cell_type": "code",
   "execution_count": 60,
   "id": "2f40c0d0",
   "metadata": {},
   "outputs": [
    {
     "data": {
      "text/html": [
       "<div>\n",
       "<style scoped>\n",
       "    .dataframe tbody tr th:only-of-type {\n",
       "        vertical-align: middle;\n",
       "    }\n",
       "\n",
       "    .dataframe tbody tr th {\n",
       "        vertical-align: top;\n",
       "    }\n",
       "\n",
       "    .dataframe thead th {\n",
       "        text-align: right;\n",
       "    }\n",
       "</style>\n",
       "<table border=\"1\" class=\"dataframe\">\n",
       "  <thead>\n",
       "    <tr style=\"text-align: right;\">\n",
       "      <th></th>\n",
       "      <th>Quantity</th>\n",
       "      <th>Price</th>\n",
       "    </tr>\n",
       "  </thead>\n",
       "  <tbody>\n",
       "    <tr>\n",
       "      <th>0</th>\n",
       "      <td>200</td>\n",
       "      <td>0</td>\n",
       "    </tr>\n",
       "    <tr>\n",
       "      <th>1</th>\n",
       "      <td>60</td>\n",
       "      <td>80</td>\n",
       "    </tr>\n",
       "    <tr>\n",
       "      <th>2</th>\n",
       "      <td>0</td>\n",
       "      <td>100</td>\n",
       "    </tr>\n",
       "  </tbody>\n",
       "</table>\n",
       "</div>"
      ],
      "text/plain": [
       "   Quantity  Price\n",
       "0       200      0\n",
       "1        60     80\n",
       "2         0    100"
      ]
     },
     "execution_count": 60,
     "metadata": {},
     "output_type": "execute_result"
    }
   ],
   "source": [
    "df[df.loc[:,'Order_id']==12].loc[:,['Quantity','Price']]"
   ]
  },
  {
   "cell_type": "code",
   "execution_count": 61,
   "id": "4d5533a3",
   "metadata": {},
   "outputs": [
    {
     "data": {
      "text/plain": [
       "[200, 60, 0]"
      ]
     },
     "execution_count": 61,
     "metadata": {},
     "output_type": "execute_result"
    }
   ],
   "source": [
    "df[df.loc[:,'Order_id']==12]['Quantity'].tolist()"
   ]
  },
  {
   "cell_type": "code",
   "execution_count": 62,
   "id": "db7ed0c3",
   "metadata": {},
   "outputs": [
    {
     "data": {
      "text/plain": [
       "3"
      ]
     },
     "execution_count": 62,
     "metadata": {},
     "output_type": "execute_result"
    }
   ],
   "source": [
    "df[df.loc[:,'Order_id']==12].loc[:,['Segment']].values[-1][0]"
   ]
  },
  {
   "cell_type": "code",
   "execution_count": 63,
   "id": "09ae6925",
   "metadata": {
    "scrolled": true
   },
   "outputs": [
    {
     "name": "stdout",
     "output_type": "stream",
     "text": [
      "{11: [2, [-20, -100, -180], [0, 40, 100]], 12: [2, [200, 60, 0], [0, 80, 100]]}\n"
     ]
    }
   ],
   "source": [
    "#定义L （set of segment information）\n",
    "#{id:[segment number,quantity list,price list]}\n",
    "L_adj = {}\n",
    "for i in Order_id:\n",
    "    L_adj[i] = [df[df.loc[:,'Order_id']==i].loc[:,['Segment']].values[-1][0]-1 , df[df.loc[:,'Order_id']==i]['Quantity'].tolist() , df[df.loc[:,'Order_id']==i]['Price'].tolist()]\n",
    "print(L_adj)"
   ]
  },
  {
   "cell_type": "code",
   "execution_count": 64,
   "id": "0a0f7a98",
   "metadata": {},
   "outputs": [
    {
     "name": "stdout",
     "output_type": "stream",
     "text": [
      "{12: [2, [0, 60, 200], [100, 80, 0]], 11: [2, [20, 100, 180], [0, 40, 100]]}\n"
     ]
    }
   ],
   "source": [
    "L= {}\n",
    "for i in T:\n",
    "    L[i] = [L_adj[i][0] , L_adj[i][1][::-1] , L_adj[i][2][::-1]]\n",
    "for i in S:\n",
    "    L[i] = [L_adj[i][0] , [-num for num in L_adj[i][1]] , L_adj[i][2]]\n",
    "print(L)"
   ]
  },
  {
   "cell_type": "code",
   "execution_count": 65,
   "id": "6b871d3d",
   "metadata": {},
   "outputs": [
    {
     "data": {
      "text/plain": [
       "100"
      ]
     },
     "execution_count": 65,
     "metadata": {},
     "output_type": "execute_result"
    }
   ],
   "source": [
    "max(df[df.loc[:,'Hour_start']==1]['Price'].tolist())"
   ]
  },
  {
   "cell_type": "code",
   "execution_count": 66,
   "id": "397ac869",
   "metadata": {},
   "outputs": [
    {
     "name": "stdout",
     "output_type": "stream",
     "text": [
      "{1: [0, 100]}\n"
     ]
    }
   ],
   "source": [
    "#定义Fmax和Fmin\n",
    "F = {}\n",
    "for z in Z:\n",
    "    if len(df[df.loc[:,'Hour_start']==z]['Price'].tolist()) > 0:\n",
    "        F[z] = [min(df[df.loc[:,'Hour_start']==1]['Price'].tolist()),max(df[df.loc[:,'Hour_start']==1]['Price'].tolist())]\n",
    "    else:\n",
    "        F[z] = [0,0]\n",
    "print(F)"
   ]
  },
  {
   "cell_type": "code",
   "execution_count": 67,
   "id": "f9a9223a",
   "metadata": {},
   "outputs": [],
   "source": [
    "#定义模型\n",
    "import gurobipy as gp\n",
    "from gurobipy import GRB\n",
    "\n",
    "# Initialize Model\n",
    "m_base = gp.Model('Base Model')"
   ]
  },
  {
   "cell_type": "code",
   "execution_count": 68,
   "id": "97d85b1b",
   "metadata": {
    "scrolled": true
   },
   "outputs": [
    {
     "name": "stdout",
     "output_type": "stream",
     "text": [
      "Minimize\n",
      "  0.0\n",
      "Subject To\n"
     ]
    },
    {
     "name": "stderr",
     "output_type": "stream",
     "text": [
      "<ipython-input-68-f4c79ea5b533>:1: DeprecationWarning: Model.display() is deprecated\n",
      "  m_base.display()\n"
     ]
    }
   ],
   "source": [
    "m_base.display()"
   ]
  },
  {
   "cell_type": "code",
   "execution_count": 69,
   "id": "3a2f7dfc",
   "metadata": {
    "scrolled": true
   },
   "outputs": [
    {
     "name": "stdout",
     "output_type": "stream",
     "text": [
      "x_1,12,1\n",
      "w_1,12,1\n",
      "x_1,12,2\n",
      "w_1,12,2\n",
      "x_1,11,1\n",
      "w_1,11,1\n",
      "x_1,11,2\n",
      "w_1,11,2\n"
     ]
    }
   ],
   "source": [
    "x = {}\n",
    "w = {}\n",
    "for z in Z:\n",
    "    for l in bid_z[z]:\n",
    "        for b in l:\n",
    "            for i in range(L[b][0]):\n",
    "                x[z,b,i] = m_base.addVar(name='x_%s,%s,%s'%(str(z),str(b),str(i+1)),lb=0,ub=1)\n",
    "                w[z,b,i] = m_base.addVar(name='w_%s,%s,%s'%(str(z),str(b),str(i+1)),vtype = GRB.BINARY)\n",
    "                print('x_%s,%s,%s'%((str(z)),str(b),str(i+1)))\n",
    "                print('w_%s,%s,%s'%((str(z)),str(b),str(i+1))) "
   ]
  },
  {
   "cell_type": "code",
   "execution_count": 70,
   "id": "73cb4400",
   "metadata": {},
   "outputs": [
    {
     "name": "stdout",
     "output_type": "stream",
     "text": [
      "{(1, 12, 0): <gurobi.Var *Awaiting Model Update*>, (1, 12, 1): <gurobi.Var *Awaiting Model Update*>, (1, 11, 0): <gurobi.Var *Awaiting Model Update*>, (1, 11, 1): <gurobi.Var *Awaiting Model Update*>}\n"
     ]
    }
   ],
   "source": [
    "print(x)"
   ]
  },
  {
   "cell_type": "code",
   "execution_count": 71,
   "id": "932dbf01",
   "metadata": {},
   "outputs": [
    {
     "name": "stdout",
     "output_type": "stream",
     "text": [
      "{(1, 12, 0): <gurobi.Var *Awaiting Model Update*>, (1, 12, 1): <gurobi.Var *Awaiting Model Update*>, (1, 11, 0): <gurobi.Var *Awaiting Model Update*>, (1, 11, 1): <gurobi.Var *Awaiting Model Update*>}\n"
     ]
    }
   ],
   "source": [
    "print(w)"
   ]
  },
  {
   "cell_type": "code",
   "execution_count": 72,
   "id": "ac5baa0e",
   "metadata": {},
   "outputs": [],
   "source": [
    "f = m_base.addVars(Z,name=\"f\",lb = 0)"
   ]
  },
  {
   "cell_type": "code",
   "execution_count": 73,
   "id": "69d2cb7f",
   "metadata": {},
   "outputs": [
    {
     "name": "stdout",
     "output_type": "stream",
     "text": [
      "{1: <gurobi.Var *Awaiting Model Update*>}\n"
     ]
    }
   ],
   "source": [
    "print(f)"
   ]
  },
  {
   "cell_type": "code",
   "execution_count": 74,
   "id": "8cfeeabc",
   "metadata": {},
   "outputs": [],
   "source": [
    "m_base.update()"
   ]
  },
  {
   "cell_type": "code",
   "execution_count": 75,
   "id": "db3b3420",
   "metadata": {
    "scrolled": true
   },
   "outputs": [
    {
     "name": "stdout",
     "output_type": "stream",
     "text": [
      "Minimize\n",
      "  0.0\n",
      "Subject To\n",
      "Bounds\n",
      "  0 <= x_1,12,1 <= 1\n",
      "  0 <= x_1,12,2 <= 1\n",
      "  0 <= x_1,11,1 <= 1\n",
      "  0 <= x_1,11,2 <= 1\n",
      "Binaries\n",
      "  ['w_1,12,1', 'w_1,12,2', 'w_1,11,1', 'w_1,11,2']\n"
     ]
    },
    {
     "name": "stderr",
     "output_type": "stream",
     "text": [
      "<ipython-input-75-f4c79ea5b533>:1: DeprecationWarning: Model.display() is deprecated\n",
      "  m_base.display()\n"
     ]
    }
   ],
   "source": [
    "m_base.display()"
   ]
  },
  {
   "cell_type": "code",
   "execution_count": 76,
   "id": "6c2b33d0",
   "metadata": {},
   "outputs": [
    {
     "name": "stdout",
     "output_type": "stream",
     "text": [
      "{12: [2, [0, 60, 200], [100, 80, 0]], 11: [2, [20, 100, 180], [0, 40, 100]]}\n"
     ]
    }
   ],
   "source": [
    "print(L)"
   ]
  },
  {
   "cell_type": "code",
   "execution_count": 77,
   "id": "c6bfe4b4",
   "metadata": {},
   "outputs": [],
   "source": [
    "#x[z,b,i]:z的范围是从1-24，b的范围是hourly bid 的id，i的范围是0到段数-1\n",
    "\n",
    "#L[b][0]: 对应bid b的总段数\n",
    "#L[b][1]：对应bid b的quantity数列\n",
    "#L[b][2]：对应bid b的price数列\n",
    "#L[b][1/2][i]: 对应bid b的第i+1段的first quantity/price\n",
    "#L[b][1/2][i+1]: 对应bid b的第i+1段的last quantity/price\n",
    "\n",
    "#bid_z[z][0]: 对应第z小时里的demand bids的id列表\n",
    "#bid_z[z][1]: 对应第z小时里的supply bids的id列表\n",
    "\n",
    "objective = gp.quicksum(0.5 * ( 2*L[b][2][i] + x[z,b,i] * (L[b][2][i+1]-L[b][2][i]) ) * x[z,b,i] * (L[b][1][i+1]-L[b][1][i]) for z in Z for b in bid_z[z][0] for i in range(L[b][0]))\n",
    "objective = objective - gp.quicksum(0.5 * ( 2*L[b][2][i] + x[z,b,i] * (L[b][2][i+1]-L[b][2][i]) ) * x[z,b,i] * (L[b][1][i+1]-L[b][1][i]) for z in Z for b in bid_z[z][1] for i in range(L[b][0]))\n",
    "m_base.setObjective(objective, sense=GRB.MAXIMIZE)"
   ]
  },
  {
   "cell_type": "code",
   "execution_count": 78,
   "id": "55d38c52",
   "metadata": {},
   "outputs": [
    {
     "name": "stdout",
     "output_type": "stream",
     "text": [
      "6000.0 x_1,12,1 + 11200.0 x_1,12,2 + -3200.0 x_1,11,2 + [ -600.0 x_1,12,1 ^ 2 + -5600.0 x_1,12,2 ^ 2 + -1600.0 x_1,11,1 ^ 2 + -2400.0 x_1,11,2 ^ 2 ]\n"
     ]
    }
   ],
   "source": [
    "print(objective)"
   ]
  },
  {
   "cell_type": "code",
   "execution_count": 79,
   "id": "2e5e02f1",
   "metadata": {},
   "outputs": [],
   "source": [
    "m_base.addConstrs((gp.quicksum((L[b][1][i+1] - L[b][1][i]) * x[z,b,i] for b in bid_z[z][1] for i in range(L[b][0])) - gp.quicksum( (L[b][1][i+1]-L[b][1][i]) * x[z,b,i] for b in bid_z[z][0] for i in range(L[b][0])) \n",
    "                   + gp.quicksum(L[b][1][0] for b in bid_z[z][1]) - gp.quicksum(L[b][1][0] for b in bid_z[z][0])== 0) for z in Z);"
   ]
  },
  {
   "cell_type": "code",
   "execution_count": 80,
   "id": "c330f0d0",
   "metadata": {},
   "outputs": [],
   "source": [
    "m_base.addConstrs(w[z,b,0] <= x[z,b,0] for z in Z for l in (tuple(x) for x in bid_z[z]) for b in l);\n",
    "m_base.addConstrs(w[z,b,i+1] <= x[z,b,i+1] for z in Z for l in (tuple(x) for x in bid_z[z]) for b in l for i in range(L[b][0]-2));\n",
    "m_base.addConstrs(w[z,b,i] >= x[z,b,i+1] for z in Z for l in (tuple(x) for x in bid_z[z]) for b in l for i in range(L[b][0]-2));\n",
    "m_base.addConstrs(x[z,b,L[b][0]-1] <= w[z,b,L[b][0]-2] for z in Z for l in (tuple(x) for x in bid_z[z]) for b in l);"
   ]
  },
  {
   "cell_type": "code",
   "execution_count": 81,
   "id": "9f12e948",
   "metadata": {},
   "outputs": [],
   "source": [
    "m_base.update()"
   ]
  },
  {
   "cell_type": "code",
   "execution_count": 82,
   "id": "69ad2ac3",
   "metadata": {
    "scrolled": true
   },
   "outputs": [
    {
     "name": "stdout",
     "output_type": "stream",
     "text": [
      "Maximize\n",
      "6000.0 x_1,12,1 + 11200.0 x_1,12,2 + -3200.0 x_1,11,2 + [ -600.0 x_1,12,1 ^ 2 +\n",
      "-5600.0 x_1,12,2 ^ 2 + -1600.0 x_1,11,1 ^ 2 + -2400.0 x_1,11,2 ^ 2 ]\n",
      "Subject To\n",
      "  R0: -60.0 x_1,12,1 + -140.0 x_1,12,2 + 80.0 x_1,11,1 + 80.0 x_1,11,2 = -20\n",
      "  R1: -1.0 x_1,12,1 + w_1,12,1 <= 0\n",
      "  R2: -1.0 x_1,11,1 + w_1,11,1 <= 0\n",
      "  R3: -1.0 w_1,12,1 + x_1,12,2 <= 0\n",
      "  R4: -1.0 w_1,11,1 + x_1,11,2 <= 0\n",
      "Bounds\n",
      "  0 <= x_1,12,1 <= 1\n",
      "  0 <= x_1,12,2 <= 1\n",
      "  0 <= x_1,11,1 <= 1\n",
      "  0 <= x_1,11,2 <= 1\n",
      "Binaries\n",
      "  ['w_1,12,1', 'w_1,12,2', 'w_1,11,1', 'w_1,11,2']\n"
     ]
    },
    {
     "name": "stderr",
     "output_type": "stream",
     "text": [
      "<ipython-input-82-f4c79ea5b533>:1: DeprecationWarning: Model.display() is deprecated\n",
      "  m_base.display()\n"
     ]
    }
   ],
   "source": [
    "m_base.display()"
   ]
  },
  {
   "cell_type": "code",
   "execution_count": 83,
   "id": "59161e91",
   "metadata": {},
   "outputs": [],
   "source": [
    "m_base.addConstrs(f[z] == F[z][0] + gp.quicksum((L[b][2][i+1]-L[b][2][i]) * x[z,b,i] for i in range(L[b][0])) for z in Z for b in bid_z[z][1]);"
   ]
  },
  {
   "cell_type": "code",
   "execution_count": 84,
   "id": "0cdf3cf7",
   "metadata": {},
   "outputs": [
    {
     "name": "stdout",
     "output_type": "stream",
     "text": [
      "{12: [2, [0, 60, 200], [100, 80, 0]], 11: [2, [20, 100, 180], [0, 40, 100]]}\n"
     ]
    }
   ],
   "source": [
    "print(L)"
   ]
  },
  {
   "cell_type": "code",
   "execution_count": 85,
   "id": "7823e7db",
   "metadata": {},
   "outputs": [],
   "source": [
    "m_base.addConstrs(f[z] == F[z][1] + gp.quicksum((L[b][2][i+1]-L[b][2][i]) * x[z,b,i] for i in range(L[b][0])) for z in Z for b in bid_z[z][0]);"
   ]
  },
  {
   "cell_type": "code",
   "execution_count": 86,
   "id": "28bc90b6",
   "metadata": {},
   "outputs": [],
   "source": [
    "m_base.update()"
   ]
  },
  {
   "cell_type": "code",
   "execution_count": 87,
   "id": "562a026c",
   "metadata": {
    "scrolled": true
   },
   "outputs": [
    {
     "name": "stdout",
     "output_type": "stream",
     "text": [
      "Maximize\n",
      "6000.0 x_1,12,1 + 11200.0 x_1,12,2 + -3200.0 x_1,11,2 + [ -600.0 x_1,12,1 ^ 2 +\n",
      "-5600.0 x_1,12,2 ^ 2 + -1600.0 x_1,11,1 ^ 2 + -2400.0 x_1,11,2 ^ 2 ]\n",
      "Subject To\n",
      "  R0: -60.0 x_1,12,1 + -140.0 x_1,12,2 + 80.0 x_1,11,1 + 80.0 x_1,11,2 = -20\n",
      "  R1: -1.0 x_1,12,1 + w_1,12,1 <= 0\n",
      "  R2: -1.0 x_1,11,1 + w_1,11,1 <= 0\n",
      "  R3: -1.0 w_1,12,1 + x_1,12,2 <= 0\n",
      "  R4: -1.0 w_1,11,1 + x_1,11,2 <= 0\n",
      "  R5: -40.0 x_1,11,1 + -60.0 x_1,11,2 + f[1] = 0\n",
      "  R6: 20.0 x_1,12,1 + 80.0 x_1,12,2 + f[1] = 100\n",
      "Bounds\n",
      "  0 <= x_1,12,1 <= 1\n",
      "  0 <= x_1,12,2 <= 1\n",
      "  0 <= x_1,11,1 <= 1\n",
      "  0 <= x_1,11,2 <= 1\n",
      "Binaries\n",
      "  ['w_1,12,1', 'w_1,12,2', 'w_1,11,1', 'w_1,11,2']\n"
     ]
    },
    {
     "name": "stderr",
     "output_type": "stream",
     "text": [
      "<ipython-input-87-f4c79ea5b533>:1: DeprecationWarning: Model.display() is deprecated\n",
      "  m_base.display()\n"
     ]
    }
   ],
   "source": [
    "m_base.display()"
   ]
  },
  {
   "cell_type": "code",
   "execution_count": 88,
   "id": "b131e7bf",
   "metadata": {
    "scrolled": false
   },
   "outputs": [
    {
     "name": "stdout",
     "output_type": "stream",
     "text": [
      "Gurobi Optimizer version 11.0.2 build v11.0.2rc0 (win64 - Windows 10.0 (19045.2))\n",
      "\n",
      "CPU model: Intel(R) Core(TM) i5-7300HQ CPU @ 2.50GHz, instruction set [SSE2|AVX|AVX2]\n",
      "Thread count: 4 physical cores, 4 logical processors, using up to 4 threads\n",
      "\n",
      "Optimize a model with 7 rows, 9 columns and 18 nonzeros\n",
      "Model fingerprint: 0xff742e3a\n",
      "Model has 4 quadratic objective terms\n",
      "Variable types: 5 continuous, 4 integer (4 binary)\n",
      "Coefficient statistics:\n",
      "  Matrix range     [1e+00, 1e+02]\n",
      "  Objective range  [3e+03, 1e+04]\n",
      "  QObjective range [1e+03, 1e+04]\n",
      "  Bounds range     [1e+00, 1e+00]\n",
      "  RHS range        [2e+01, 1e+02]\n",
      "Presolve removed 7 rows and 9 columns\n",
      "Presolve time: 0.00s\n",
      "Presolve: All rows and columns removed\n",
      "\n",
      "Explored 0 nodes (0 simplex iterations) in 0.01 seconds (0.00 work units)\n",
      "Thread count was 1 (of 4 available processors)\n",
      "\n",
      "Solution count 1: 6654.05 \n",
      "\n",
      "Optimal solution found (tolerance 1.00e-04)\n",
      "Best objective 6.654054054054e+03, best bound 6.654054054054e+03, gap 0.0000%\n"
     ]
    }
   ],
   "source": [
    "m_base.optimize()"
   ]
  },
  {
   "cell_type": "code",
   "execution_count": 89,
   "id": "b3bf27c3",
   "metadata": {},
   "outputs": [
    {
     "name": "stdout",
     "output_type": "stream",
     "text": [
      "Maximize\n",
      "6000.0 x_1,12,1 + 11200.0 x_1,12,2 + -3200.0 x_1,11,2 + [ -600.0 x_1,12,1 ^ 2 +\n",
      "-5600.0 x_1,12,2 ^ 2 + -1600.0 x_1,11,1 ^ 2 + -2400.0 x_1,11,2 ^ 2 ]\n",
      "Subject To\n",
      "  R0: -60.0 x_1,12,1 + -140.0 x_1,12,2 + 80.0 x_1,11,1 + 80.0 x_1,11,2 = -20\n",
      "  R1: -1.0 x_1,12,1 + w_1,12,1 <= 0\n",
      "  R2: -1.0 x_1,11,1 + w_1,11,1 <= 0\n",
      "  R3: -1.0 w_1,12,1 + x_1,12,2 <= 0\n",
      "  R4: -1.0 w_1,11,1 + x_1,11,2 <= 0\n",
      "  R5: -40.0 x_1,11,1 + -60.0 x_1,11,2 + f[1] = 0\n",
      "  R6: 20.0 x_1,12,1 + 80.0 x_1,12,2 + f[1] = 100\n",
      "Bounds\n",
      "  0 <= x_1,12,1 <= 1\n",
      "  0 <= x_1,12,2 <= 1\n",
      "  0 <= x_1,11,1 <= 1\n",
      "  0 <= x_1,11,2 <= 1\n",
      "Binaries\n",
      "  ['w_1,12,1', 'w_1,12,2', 'w_1,11,1', 'w_1,11,2']\n"
     ]
    },
    {
     "name": "stderr",
     "output_type": "stream",
     "text": [
      "<ipython-input-89-f4c79ea5b533>:1: DeprecationWarning: Model.display() is deprecated\n",
      "  m_base.display()\n"
     ]
    }
   ],
   "source": [
    "m_base.display()"
   ]
  },
  {
   "cell_type": "code",
   "execution_count": 90,
   "id": "4e27a3ca",
   "metadata": {
    "scrolled": true
   },
   "outputs": [
    {
     "name": "stdout",
     "output_type": "stream",
     "text": [
      "<gurobi.Var f[1] (value 49.72972972972973)>\n",
      "<gurobi.Var x_1,12,1 (value 1.0)>\n",
      "<gurobi.Var w_1,12,1 (value 1.0)>\n",
      "<gurobi.Var x_1,12,2 (value 0.37837837837837845)>\n",
      "<gurobi.Var w_1,12,2 (value 0.0)>\n",
      "<gurobi.Var x_1,11,1 (value 1.0)>\n",
      "<gurobi.Var w_1,11,1 (value 1.0)>\n",
      "<gurobi.Var x_1,11,2 (value 0.1621621621621622)>\n",
      "<gurobi.Var w_1,11,2 (value 0.0)>\n"
     ]
    }
   ],
   "source": [
    "for z in Z:\n",
    "    print(f[z])\n",
    "    for l in bid_z[z]:\n",
    "        for b in l:\n",
    "            for i in range(L[b][0]):\n",
    "                print(x[z,b,i])\n",
    "                print(w[z,b,i])"
   ]
  },
  {
   "cell_type": "code",
   "execution_count": 49,
   "id": "6fbaee2e",
   "metadata": {},
   "outputs": [
    {
     "name": "stdout",
     "output_type": "stream",
     "text": [
      "[49.49494949]\n"
     ]
    },
    {
     "data": {
      "image/png": "[encoded data removed]",
      "text/plain": [
       "<Figure size 720x432 with 1 Axes>"
      ]
     },
     "metadata": {
      "needs_background": "light"
     },
     "output_type": "display_data"
    }
   ],
   "source": [
    "import numpy as np\n",
    "import matplotlib.pyplot as plt\n",
    "from scipy.interpolate import interp1d\n",
    "\n",
    "# 示例数据\n",
    "x1 = np.array([0,80,100])\n",
    "y1 = np.array([200,60,0])\n",
    "\n",
    "# x2 = np.array([0,60,100])\n",
    "# y2 = np.array([120,80,40])\n",
    "\n",
    "x3 = np.array([0,40,100])\n",
    "y3 = np.array([-20,-100,-180])\n",
    "\n",
    "# x4 = np.array([0,70,100])\n",
    "# y4 = np.array([0,-80,-150])\n",
    "\n",
    "# 创建公共x坐标\n",
    "x_common = np.linspace(0, 100, 100)\n",
    "\n",
    "# 插值\n",
    "interp1 = interp1d(x1, y1, kind='linear', fill_value=\"extrapolate\")\n",
    "# interp2 = interp1d(x2, y2, kind='linear', fill_value=\"extrapolate\")\n",
    "interp3 = interp1d(x3, y3, kind='linear', fill_value=\"extrapolate\")\n",
    "# interp4 = interp1d(x4, y4, kind='linear', fill_value=\"extrapolate\")\n",
    "\n",
    "y1_interp = interp1(x_common)\n",
    "# y2_interp = interp2(x_common)\n",
    "y3_interp = interp3(x_common)\n",
    "# y4_interp = interp4(x_common)\n",
    "\n",
    "# 将插值后的y值相加\n",
    "y_sum = y1_interp + y3_interp\n",
    "\n",
    "# 找到组合后零点\n",
    "# 使用差值法找到零点\n",
    "zero_crossings = np.where(np.diff(np.sign(y_sum)))[0]\n",
    "x_zeros = x_common[zero_crossings]\n",
    "print(x_zeros)\n",
    "\n",
    "# 创建一个新的图表\n",
    "plt.figure(figsize=(10, 6))\n",
    "\n",
    "# 绘制原始折线图\n",
    "plt.plot(x1, y1, 'o-', label='Original Line 1')\n",
    "# plt.plot(x2, y2, 'o-', label='Original Line 2')\n",
    "plt.plot(x3, y3, 'o-', label='Original Line 3')\n",
    "# plt.plot(x4, y4, 'o-', label='Original Line 4')\n",
    "\n",
    "# 绘制插值后的折线图\n",
    "plt.plot(x_common, y1_interp, '--', label='Interpolated Line 1')\n",
    "# plt.plot(x_common, y2_interp, '--', label='Interpolated Line 2')\n",
    "plt.plot(x_common, y3_interp, '--', label='Interpolated Line 3')\n",
    "# plt.plot(x_common, y4_interp, '--', label='Interpolated Line 4')\n",
    "\n",
    "# 绘制相加后的折线图\n",
    "plt.plot(x_common, y_sum, label='Sum of Lines', linestyle='-')\n",
    "\n",
    "# 绘制零点\n",
    "plt.plot(x_zeros, np.zeros_like(x_zeros), 'ro', label='Zero Points')\n",
    "\n",
    "# 添加图例\n",
    "plt.legend()\n",
    "\n",
    "# 添加标题和标签\n",
    "plt.title('Sum of Two Line Plots with Different x Coordinates')\n",
    "plt.xlabel('X')\n",
    "plt.ylabel('Y')\n",
    "\n",
    "# 显示图表\n",
    "plt.show()"
   ]
  },
  {
   "cell_type": "code",
   "execution_count": 92,
   "id": "15952a61",
   "metadata": {},
   "outputs": [],
   "source": [
    "import Algorithm_noblock"
   ]
  },
  {
   "cell_type": "code",
   "execution_count": null,
   "id": "7ef4dffc",
   "metadata": {},
   "outputs": [],
   "source": []
  }
 ],
 "metadata": {
  "kernelspec": {
   "display_name": "Python 3",
   "language": "python",
   "name": "python3"
  },
  "language_info": {
   "codemirror_mode": {
    "name": "ipython",
    "version": 3
   },
   "file_extension": ".py",
   "mimetype": "text/x-python",
   "name": "python",
   "nbconvert_exporter": "python",
   "pygments_lexer": "ipython3",
   "version": "3.8.8"
  }
 },
 "nbformat": 4,
 "nbformat_minor": 5
}
